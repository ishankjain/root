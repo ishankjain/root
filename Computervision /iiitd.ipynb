{
 "cells": [
  {
   "cell_type": "code",
   "execution_count": 2,
   "metadata": {},
   "outputs": [],
   "source": [
    "from fastai.imports import *\n",
    "\n",
    "from fastai.transforms import *\n",
    "from fastai.conv_learner import *\n",
    "from fastai.model import *\n",
    "from fastai.dataset import *\n",
    "from fastai.sgdr import *\n",
    "from fastai.plots import *\n"
   ]
  },
  {
   "cell_type": "code",
   "execution_count": 3,
   "metadata": {},
   "outputs": [],
   "source": [
    "# Put these at the top of every notebook, to get automatic reloading and inline plotting\n",
    "%reload_ext autoreload\n",
    "%autoreload 2\n",
    "%matplotlib inline"
   ]
  },
  {
   "cell_type": "code",
   "execution_count": 4,
   "metadata": {},
   "outputs": [],
   "source": [
    "import pickle\n",
    "\n",
    "with open('iiitd/train_image.pkl', 'rb') as f:\n",
    "    data_train = pickle.load(f)\n",
    "with open('iiitd/test_image.pkl', 'rb') as f:\n",
    "    data_test = pickle.load(f)\n",
    "with open('iiitd/train_label.pkl', 'rb') as f:\n",
    "    label = pickle.load(f)"
   ]
  },
  {
   "cell_type": "code",
   "execution_count": 4,
   "metadata": {},
   "outputs": [],
   "source": [
    "im = Image.open('iiitd/Prd.AcousticRsrchGold_01_large.png')\n",
    "a = np.asarray(im)"
   ]
  },
  {
   "cell_type": "code",
   "execution_count": 5,
   "metadata": {},
   "outputs": [
    {
     "data": {
      "text/html": [
       "<div>\n",
       "<style scoped>\n",
       "    .dataframe tbody tr th:only-of-type {\n",
       "        vertical-align: middle;\n",
       "    }\n",
       "\n",
       "    .dataframe tbody tr th {\n",
       "        vertical-align: top;\n",
       "    }\n",
       "\n",
       "    .dataframe thead th {\n",
       "        text-align: right;\n",
       "    }\n",
       "</style>\n",
       "<table border=\"1\" class=\"dataframe\">\n",
       "  <thead>\n",
       "    <tr style=\"text-align: right;\">\n",
       "      <th></th>\n",
       "      <th>id</th>\n",
       "      <th>label</th>\n",
       "    </tr>\n",
       "  </thead>\n",
       "  <tbody>\n",
       "  </tbody>\n",
       "</table>\n",
       "</div>"
      ],
      "text/plain": [
       "Empty DataFrame\n",
       "Columns: [id, label]\n",
       "Index: []"
      ]
     },
     "execution_count": 5,
     "metadata": {},
     "output_type": "execute_result"
    }
   ],
   "source": [
    "df=pd.DataFrame({'id':[],'label':[]})\n",
    "df"
   ]
  },
  {
   "cell_type": "code",
   "execution_count": 6,
   "metadata": {},
   "outputs": [],
   "source": [
    "ids=[]\n",
    "labels=[]\n",
    "for i in range(8000):\n",
    "    image=np.reshape(data_train[i],(28,28))\n",
    "    image=np.asarray(image)\n",
    "    image=image.astype(a.dtype)\n",
    "    image=Image.fromarray(image)\n",
    "    x=\"iiitd/train/\"+str(i)+\".png\"\n",
    "    ids.append(i)\n",
    "    labels.append(label[i])\n",
    "    image.save(x)"
   ]
  },
  {
   "cell_type": "code",
   "execution_count": 7,
   "metadata": {},
   "outputs": [],
   "source": [
    "image_index=[]\n",
    "for i in range(2000):\n",
    "    image=np.reshape(data_test[i],(28,28))\n",
    "    image=np.asarray(image)\n",
    "    image=image.astype(a.dtype)\n",
    "    image=Image.fromarray(image)\n",
    "    x=\"iiitd/test/\"+str(i)+\".png\"\n",
    "    image.save(x)\n",
    "    image_index.append(i)"
   ]
  },
  {
   "cell_type": "code",
   "execution_count": 8,
   "metadata": {},
   "outputs": [
    {
     "data": {
      "text/html": [
       "<div>\n",
       "<style scoped>\n",
       "    .dataframe tbody tr th:only-of-type {\n",
       "        vertical-align: middle;\n",
       "    }\n",
       "\n",
       "    .dataframe tbody tr th {\n",
       "        vertical-align: top;\n",
       "    }\n",
       "\n",
       "    .dataframe thead th {\n",
       "        text-align: right;\n",
       "    }\n",
       "</style>\n",
       "<table border=\"1\" class=\"dataframe\">\n",
       "  <thead>\n",
       "    <tr style=\"text-align: right;\">\n",
       "      <th></th>\n",
       "      <th>id</th>\n",
       "      <th>label</th>\n",
       "    </tr>\n",
       "  </thead>\n",
       "  <tbody>\n",
       "    <tr>\n",
       "      <th>0</th>\n",
       "      <td>0</td>\n",
       "      <td>0</td>\n",
       "    </tr>\n",
       "    <tr>\n",
       "      <th>1</th>\n",
       "      <td>1</td>\n",
       "      <td>0</td>\n",
       "    </tr>\n",
       "    <tr>\n",
       "      <th>2</th>\n",
       "      <td>2</td>\n",
       "      <td>0</td>\n",
       "    </tr>\n",
       "    <tr>\n",
       "      <th>3</th>\n",
       "      <td>3</td>\n",
       "      <td>0</td>\n",
       "    </tr>\n",
       "    <tr>\n",
       "      <th>4</th>\n",
       "      <td>4</td>\n",
       "      <td>0</td>\n",
       "    </tr>\n",
       "  </tbody>\n",
       "</table>\n",
       "</div>"
      ],
      "text/plain": [
       "   id  label\n",
       "0   0      0\n",
       "1   1      0\n",
       "2   2      0\n",
       "3   3      0\n",
       "4   4      0"
      ]
     },
     "execution_count": 8,
     "metadata": {},
     "output_type": "execute_result"
    }
   ],
   "source": [
    "df['id']=ids\n",
    "df['label']=labels\n",
    "df.head()"
   ]
  },
  {
   "cell_type": "code",
   "execution_count": 9,
   "metadata": {},
   "outputs": [
    {
     "data": {
      "text/html": [
       "<div>\n",
       "<style scoped>\n",
       "    .dataframe tbody tr th:only-of-type {\n",
       "        vertical-align: middle;\n",
       "    }\n",
       "\n",
       "    .dataframe tbody tr th {\n",
       "        vertical-align: top;\n",
       "    }\n",
       "\n",
       "    .dataframe thead th {\n",
       "        text-align: right;\n",
       "    }\n",
       "</style>\n",
       "<table border=\"1\" class=\"dataframe\">\n",
       "  <thead>\n",
       "    <tr style=\"text-align: right;\">\n",
       "      <th></th>\n",
       "      <th>id</th>\n",
       "    </tr>\n",
       "    <tr>\n",
       "      <th>label</th>\n",
       "      <th></th>\n",
       "    </tr>\n",
       "  </thead>\n",
       "  <tbody>\n",
       "    <tr>\n",
       "      <th>0</th>\n",
       "      <td>2000</td>\n",
       "    </tr>\n",
       "    <tr>\n",
       "      <th>2</th>\n",
       "      <td>2000</td>\n",
       "    </tr>\n",
       "    <tr>\n",
       "      <th>3</th>\n",
       "      <td>2000</td>\n",
       "    </tr>\n",
       "    <tr>\n",
       "      <th>6</th>\n",
       "      <td>2000</td>\n",
       "    </tr>\n",
       "  </tbody>\n",
       "</table>\n",
       "</div>"
      ],
      "text/plain": [
       "         id\n",
       "label      \n",
       "0      2000\n",
       "2      2000\n",
       "3      2000\n",
       "6      2000"
      ]
     },
     "execution_count": 9,
     "metadata": {},
     "output_type": "execute_result"
    }
   ],
   "source": [
    "df.pivot_table(index=\"label\", aggfunc=len).sort_values('id', ascending=False)"
   ]
  },
  {
   "cell_type": "code",
   "execution_count": 10,
   "metadata": {},
   "outputs": [],
   "source": [
    "df.to_csv('iiitd/labels.csv',index=False)"
   ]
  },
  {
   "cell_type": "code",
   "execution_count": 11,
   "metadata": {},
   "outputs": [],
   "source": [
    "# image=np.reshape(data[1],(28,28))\n",
    "# print(label[7100])\n",
    "# plt.imshow(image)"
   ]
  },
  {
   "cell_type": "code",
   "execution_count": 12,
   "metadata": {},
   "outputs": [],
   "source": [
    "PATH = \"iiitd/\"\n",
    "sz = 299\n",
    "arch = resnet34\n",
    "bs = 32"
   ]
  },
  {
   "cell_type": "code",
   "execution_count": 13,
   "metadata": {},
   "outputs": [],
   "source": [
    "n=8000\n",
    "val_idxs = get_cv_idxs(n)"
   ]
  },
  {
   "cell_type": "code",
   "execution_count": 14,
   "metadata": {},
   "outputs": [],
   "source": [
    "tfms = tfms_from_model(arch, sz, aug_tfms=transforms_side_on, max_zoom=1.1)\n",
    "data = ImageClassifierData.from_csv(PATH, 'train', f'{PATH}labels.csv', test_name='test', # we need to specify where the test set is if you want to submit to Kaggle competitions\n",
    "                                   val_idxs=val_idxs, suffix='.png', tfms=tfms, bs=bs)"
   ]
  },
  {
   "cell_type": "code",
   "execution_count": 15,
   "metadata": {},
   "outputs": [
    {
     "data": {
      "text/plain": [
       "'iiitd/train/0.png'"
      ]
     },
     "execution_count": 15,
     "metadata": {},
     "output_type": "execute_result"
    }
   ],
   "source": [
    "fn = PATH + data.trn_ds.fnames[0]; fn"
   ]
  },
  {
   "cell_type": "code",
   "execution_count": 16,
   "metadata": {},
   "outputs": [
    {
     "data": {
      "image/png": "[encoded data removed]",
      "text/plain": [
       "<PIL.PngImagePlugin.PngImageFile image mode=L size=28x28 at 0x7FC1DC3E7908>"
      ]
     },
     "execution_count": 16,
     "metadata": {},
     "output_type": "execute_result"
    }
   ],
   "source": [
    "img = PIL.Image.open(fn); img"
   ]
  },
  {
   "cell_type": "code",
   "execution_count": 17,
   "metadata": {},
   "outputs": [
    {
     "data": {
      "text/plain": [
       "(28, 28)"
      ]
     },
     "execution_count": 17,
     "metadata": {},
     "output_type": "execute_result"
    }
   ],
   "source": [
    "img.size"
   ]
  },
  {
   "cell_type": "code",
   "execution_count": 18,
   "metadata": {},
   "outputs": [],
   "source": [
    "learn = ConvLearner.pretrained(arch, data, precompute=True)"
   ]
  },
  {
   "cell_type": "code",
   "execution_count": 19,
   "metadata": {},
   "outputs": [
    {
     "data": {
      "application/vnd.jupyter.widget-view+json": {
       "model_id": "a34ed1ee2753462c8a653e63968089d1",
       "version_major": 2,
       "version_minor": 0
      },
      "text/plain": [
       "HBox(children=(IntProgress(value=0, description='Epoch', max=1, style=ProgressStyle(description_width='initial…"
      ]
     },
     "metadata": {},
     "output_type": "display_data"
    },
    {
     "name": "stdout",
     "output_type": "stream",
     "text": [
      " 60%|█████▉    | 119/200 [00:01<00:01, 62.47it/s, loss=0.929]\n",
      "                                                             \r"
     ]
    },
    {
     "data": {
      "image/png": "[encoded data removed]",
      "text/plain": [
       "<Figure size 432x288 with 1 Axes>"
      ]
     },
     "metadata": {
      "needs_background": "light"
     },
     "output_type": "display_data"
    }
   ],
   "source": [
    "learn.lr_find(1e-4)\n",
    "learn.sched.plot(1)"
   ]
  },
  {
   "cell_type": "code",
   "execution_count": 20,
   "metadata": {},
   "outputs": [],
   "source": [
    "lr=1e-3"
   ]
  },
  {
   "cell_type": "code",
   "execution_count": 21,
   "metadata": {},
   "outputs": [
    {
     "data": {
      "application/vnd.jupyter.widget-view+json": {
       "model_id": "3919aad60e6a41a7a94abe4637e3aeb0",
       "version_major": 2,
       "version_minor": 0
      },
      "text/plain": [
       "HBox(children=(IntProgress(value=0, description='Epoch', max=25, style=ProgressStyle(description_width='initia…"
      ]
     },
     "metadata": {},
     "output_type": "display_data"
    },
    {
     "name": "stdout",
     "output_type": "stream",
     "text": [
      "epoch      trn_loss   val_loss   accuracy                    \n",
      "    0      0.765764   0.556415   0.788125  \n",
      "    1      0.655839   0.50557    0.806875                    \n",
      "    2      0.607045   0.481025   0.82125                     \n",
      "    3      0.566067   0.465903   0.82375                     \n",
      "    4      0.551427   0.454152   0.829375                    \n",
      "    5      0.521684   0.447236   0.82625                     \n",
      "    6      0.514754   0.435553   0.835625                    \n",
      "    7      0.519176   0.431686   0.8375                      \n",
      "    8      0.512092   0.427213   0.838125                    \n",
      "    9      0.491203   0.426631   0.836875                    \n",
      "    10     0.493551   0.424554   0.83875                     \n",
      "    11     0.47348    0.420288   0.838125                    \n",
      "    12     0.45292    0.416293   0.841875                    \n",
      "    13     0.476667   0.416112   0.845625                    \n",
      "    14     0.441566   0.412797   0.840625                    \n",
      "    15     0.462757   0.407428   0.84625                     \n",
      "    16     0.448298   0.405426   0.8475                      \n",
      "    17     0.435294   0.406087   0.844375                    \n",
      "    18     0.457079   0.403452   0.84875                     \n",
      "    19     0.423373   0.401505   0.848125                    \n",
      "    20     0.432177   0.398566   0.848125                    \n",
      "    21     0.424234   0.396831   0.846875                    \n",
      "    22     0.414582   0.397331   0.853125                    \n",
      "    23     0.440989   0.395454   0.84875                     \n",
      "    24     0.413006   0.391295   0.85125                     \n",
      "\n"
     ]
    },
    {
     "data": {
      "text/plain": [
       "[0.3912947640568018, 0.85125]"
      ]
     },
     "execution_count": 21,
     "metadata": {},
     "output_type": "execute_result"
    }
   ],
   "source": [
    "learn.fit(lr, 25)"
   ]
  },
  {
   "cell_type": "code",
   "execution_count": 23,
   "metadata": {},
   "outputs": [
    {
     "data": {
      "application/vnd.jupyter.widget-view+json": {
       "model_id": "8547163607d74edd84d5ed6fb849d9c8",
       "version_major": 2,
       "version_minor": 0
      },
      "text/plain": [
       "HBox(children=(IntProgress(value=0, description='Epoch', max=7, style=ProgressStyle(description_width='initial…"
      ]
     },
     "metadata": {},
     "output_type": "display_data"
    },
    {
     "name": "stdout",
     "output_type": "stream",
     "text": [
      "epoch      trn_loss   val_loss   accuracy                    \n",
      "    0      0.420419   0.391901   0.853125  \n",
      "    1      0.413461   0.39139    0.849375                    \n",
      "    2      0.391339   0.391937   0.84875                     \n",
      "    3      0.402426   0.388061   0.849375                    \n",
      "    4      0.401893   0.389986   0.85125                     \n",
      "    5      0.419083   0.387311   0.8525                      \n",
      "    6      0.393308   0.384922   0.85125                     \n",
      "\n"
     ]
    },
    {
     "data": {
      "text/plain": [
       "[0.3849218887090683, 0.85125]"
      ]
     },
     "execution_count": 23,
     "metadata": {},
     "output_type": "execute_result"
    }
   ],
   "source": [
    "learn.freeze_to(-4)\n",
    "learn.fit(lr, 3, cycle_len=1, cycle_mult=2)"
   ]
  },
  {
   "cell_type": "code",
   "execution_count": 24,
   "metadata": {},
   "outputs": [
    {
     "data": {
      "application/vnd.jupyter.widget-view+json": {
       "model_id": "50f747dfb8054de1bf4970c6d9a6c044",
       "version_major": 2,
       "version_minor": 0
      },
      "text/plain": [
       "HBox(children=(IntProgress(value=0, description='Epoch', max=7, style=ProgressStyle(description_width='initial…"
      ]
     },
     "metadata": {},
     "output_type": "display_data"
    },
    {
     "name": "stdout",
     "output_type": "stream",
     "text": [
      "epoch      trn_loss   val_loss   accuracy                    \n",
      "    0      0.447608   0.402339   0.845625  \n",
      "    1      0.46201    0.403033   0.84625                     \n",
      "    2      0.416806   0.3945     0.844375                    \n",
      "    3      0.470236   0.420404   0.838125                    \n",
      "    4      0.443715   0.381117   0.86                        \n",
      "    5      0.374112   0.374941   0.855                       \n",
      "    6      0.357513   0.374832   0.859375                    \n",
      "\n"
     ]
    },
    {
     "data": {
      "text/plain": [
       "[0.37483197659254075, 0.859375]"
      ]
     },
     "execution_count": 24,
     "metadata": {},
     "output_type": "execute_result"
    }
   ],
   "source": [
    "learn.fit(1e-2, 3, cycle_len=1, cycle_mult=2)"
   ]
  },
  {
   "cell_type": "code",
   "execution_count": 25,
   "metadata": {},
   "outputs": [
    {
     "data": {
      "application/vnd.jupyter.widget-view+json": {
       "model_id": "d10aa383502f4591adff4d3ba685763b",
       "version_major": 2,
       "version_minor": 0
      },
      "text/plain": [
       "HBox(children=(IntProgress(value=0, description='Epoch', max=14, style=ProgressStyle(description_width='initia…"
      ]
     },
     "metadata": {},
     "output_type": "display_data"
    },
    {
     "name": "stdout",
     "output_type": "stream",
     "text": [
      "epoch      trn_loss   val_loss   accuracy                    \n",
      "    0      0.412713   0.382767   0.856875  \n",
      "    1      0.366758   0.37103    0.860625                    \n",
      "    2      0.40985    0.393815   0.863125                    \n",
      "    3      0.403054   0.379357   0.854375                    \n",
      "    4      0.339815   0.368649   0.860625                    \n",
      "    5      0.328359   0.3648     0.86125                     \n",
      "    6      0.390271   0.394999   0.851875                    \n",
      "    7      0.375903   0.394038   0.8425                      \n",
      "    8      0.363875   0.369972   0.85875                     \n",
      "    9      0.3323     0.376056   0.854375                    \n",
      "    10     0.316737   0.368081   0.86125                     \n",
      "    11     0.304988   0.364296   0.865                       \n",
      "    12     0.280128   0.363968   0.86375                     \n",
      "    13     0.282186   0.363682   0.866875                    \n",
      "\n"
     ]
    },
    {
     "data": {
      "text/plain": [
       "[0.3636823496222496, 0.866875]"
      ]
     },
     "execution_count": 25,
     "metadata": {},
     "output_type": "execute_result"
    }
   ],
   "source": [
    "learn.fit(1e-2, 3, cycle_len=2,cycle_mult=2)"
   ]
  },
  {
   "cell_type": "code",
   "execution_count": 26,
   "metadata": {},
   "outputs": [],
   "source": [
    "learn.save('resnet34')"
   ]
  },
  {
   "cell_type": "code",
   "execution_count": 27,
   "metadata": {},
   "outputs": [],
   "source": [
    "learn.load('resnet34')"
   ]
  },
  {
   "cell_type": "code",
   "execution_count": 28,
   "metadata": {},
   "outputs": [
    {
     "name": "stdout",
     "output_type": "stream",
     "text": [
      "                                             \r"
     ]
    }
   ],
   "source": [
    "log_preds, _ = learn.TTA(is_test=True) \n",
    "probs = np.mean(np.exp(log_preds),0)\n",
    "# accuracy_np(probs, y), metrics.log_loss(y, probs)"
   ]
  },
  {
   "cell_type": "code",
   "execution_count": 29,
   "metadata": {},
   "outputs": [
    {
     "data": {
      "text/html": [
       "<div>\n",
       "<style scoped>\n",
       "    .dataframe tbody tr th:only-of-type {\n",
       "        vertical-align: middle;\n",
       "    }\n",
       "\n",
       "    .dataframe tbody tr th {\n",
       "        vertical-align: top;\n",
       "    }\n",
       "\n",
       "    .dataframe thead th {\n",
       "        text-align: right;\n",
       "    }\n",
       "</style>\n",
       "<table border=\"1\" class=\"dataframe\">\n",
       "  <thead>\n",
       "    <tr style=\"text-align: right;\">\n",
       "      <th></th>\n",
       "      <th>image_index</th>\n",
       "      <th>0</th>\n",
       "      <th>2</th>\n",
       "      <th>3</th>\n",
       "      <th>6</th>\n",
       "    </tr>\n",
       "  </thead>\n",
       "  <tbody>\n",
       "    <tr>\n",
       "      <th>0</th>\n",
       "      <td>255</td>\n",
       "      <td>0.818000</td>\n",
       "      <td>2.320654e-03</td>\n",
       "      <td>2.231639e-04</td>\n",
       "      <td>0.179456</td>\n",
       "    </tr>\n",
       "    <tr>\n",
       "      <th>1</th>\n",
       "      <td>1078</td>\n",
       "      <td>0.005943</td>\n",
       "      <td>1.147137e-05</td>\n",
       "      <td>9.925799e-01</td>\n",
       "      <td>0.001465</td>\n",
       "    </tr>\n",
       "    <tr>\n",
       "      <th>2</th>\n",
       "      <td>1364</td>\n",
       "      <td>0.030041</td>\n",
       "      <td>2.691040e-03</td>\n",
       "      <td>6.139608e-01</td>\n",
       "      <td>0.353307</td>\n",
       "    </tr>\n",
       "    <tr>\n",
       "      <th>3</th>\n",
       "      <td>28</td>\n",
       "      <td>0.999721</td>\n",
       "      <td>4.648968e-07</td>\n",
       "      <td>1.013888e-07</td>\n",
       "      <td>0.000278</td>\n",
       "    </tr>\n",
       "    <tr>\n",
       "      <th>4</th>\n",
       "      <td>1234</td>\n",
       "      <td>0.000188</td>\n",
       "      <td>6.417063e-05</td>\n",
       "      <td>9.994146e-01</td>\n",
       "      <td>0.000333</td>\n",
       "    </tr>\n",
       "  </tbody>\n",
       "</table>\n",
       "</div>"
      ],
      "text/plain": [
       "  image_index         0             2             3         6\n",
       "0         255  0.818000  2.320654e-03  2.231639e-04  0.179456\n",
       "1        1078  0.005943  1.147137e-05  9.925799e-01  0.001465\n",
       "2        1364  0.030041  2.691040e-03  6.139608e-01  0.353307\n",
       "3          28  0.999721  4.648968e-07  1.013888e-07  0.000278\n",
       "4        1234  0.000188  6.417063e-05  9.994146e-01  0.000333"
      ]
     },
     "execution_count": 29,
     "metadata": {},
     "output_type": "execute_result"
    }
   ],
   "source": [
    "df = pd.DataFrame(probs)\n",
    "df.columns = data.classes\n",
    "df.insert(0, 'image_index', [o[5:-4] for o in data.test_ds.fnames])\n",
    "df.shape\n",
    "df.head()"
   ]
  },
  {
   "cell_type": "code",
   "execution_count": 30,
   "metadata": {},
   "outputs": [],
   "source": [
    "cl=[]\n",
    "for i in range(2000):\n",
    "    temp=(max(df['0'][i],df['2'][i],df['3'][i],df['6'][i]))\n",
    "    if(temp==df['0'][i]):\n",
    "        cl.append(0)\n",
    "    elif(temp==df['2'][i]):\n",
    "        cl.append(2)\n",
    "    elif(temp==df['3'][i]):\n",
    "        cl.append(3)\n",
    "    elif(temp==df['6'][i]):\n",
    "        cl.append(6)"
   ]
  },
  {
   "cell_type": "code",
   "execution_count": 31,
   "metadata": {},
   "outputs": [],
   "source": [
    "df['class']=cl"
   ]
  },
  {
   "cell_type": "code",
   "execution_count": 32,
   "metadata": {},
   "outputs": [
    {
     "data": {
      "text/plain": [
       "(2000, 4)"
      ]
     },
     "execution_count": 32,
     "metadata": {},
     "output_type": "execute_result"
    }
   ],
   "source": [
    "probs.shape"
   ]
  },
  {
   "cell_type": "code",
   "execution_count": 60,
   "metadata": {},
   "outputs": [],
   "source": [
    "learn.precompute = False"
   ]
  },
  {
   "cell_type": "code",
   "execution_count": 61,
   "metadata": {},
   "outputs": [
    {
     "data": {
      "application/vnd.jupyter.widget-view+json": {
       "model_id": "cd616eaaeb884784a96f39aab93e8616",
       "version_major": 2,
       "version_minor": 0
      },
      "text/plain": [
       "HBox(children=(IntProgress(value=0, description='Epoch', max=62, style=ProgressStyle(description_width='initia…"
      ]
     },
     "metadata": {},
     "output_type": "display_data"
    },
    {
     "name": "stdout",
     "output_type": "stream",
     "text": [
      "\n",
      "epoch      trn_loss   val_loss   accuracy                    \n",
      "    0      0.563291   0.395238   0.850625  \n",
      "    1      0.491487   0.385862   0.851875                    \n",
      "    2      0.519153   0.387838   0.856875                    \n",
      "    3      0.507915   0.379858   0.85625                     \n",
      "    4      0.448553   0.370887   0.860625                    \n",
      "    5      0.471587   0.369402   0.8575                      \n",
      "    6      0.499421   0.381989   0.859375                    \n",
      "    7      0.47373    0.391823   0.848125                    \n",
      "    8      0.484009   0.374937   0.85625                     \n",
      "    9      0.453344   0.369485   0.85875                     \n",
      "    10     0.437225   0.362336   0.863125                    \n",
      "    11     0.446732   0.362688   0.86375                     \n",
      "    12     0.431159   0.361654   0.859375                    \n",
      "    13     0.427948   0.360079   0.864375                    \n",
      "    14     0.486424   0.358582   0.861875                    \n",
      "    15     0.474056   0.38173    0.860625                    \n",
      "    16     0.458563   0.38174    0.848125                    \n",
      "    17     0.458493   0.358593   0.8575                      \n",
      "    18     0.453389   0.366904   0.85875                     \n",
      "    19     0.430495   0.366876   0.8525                      \n",
      "    20     0.451488   0.359892   0.8575                      \n",
      "    21     0.434543   0.352008   0.869375                    \n",
      "    22     0.450901   0.359176   0.85875                     \n",
      "    23     0.440919   0.356776   0.86375                     \n",
      "    24     0.421953   0.355634   0.860625                    \n",
      "    25     0.421729   0.354613   0.86375                     \n",
      "    26     0.4091     0.353366   0.866875                    \n",
      "    27     0.408175   0.353123   0.864375                    \n",
      "    28     0.406653   0.354314   0.86375                     \n",
      "    29     0.425837   0.353861   0.861875                    \n",
      "    30     0.438356   0.361448   0.85875                     \n",
      "    31     0.446608   0.366142   0.866875                    \n",
      "    32     0.438457   0.35554    0.86                        \n",
      "    33     0.440414   0.361084   0.854375                    \n",
      "    34     0.424844   0.355425   0.863125                    \n",
      "    35     0.412694   0.352971   0.865625                    \n",
      "    36     0.434367   0.346365   0.863125                    \n",
      "    37     0.435368   0.351953   0.870625                    \n",
      "    38     0.427813   0.350793   0.86875                     \n",
      "    39     0.420705   0.348894   0.873125                    \n",
      "    40     0.404126   0.358381   0.861875                    \n",
      "    41     0.410038   0.357092   0.864375                    \n",
      "    42     0.387742   0.343359   0.86625                     \n",
      "    43     0.411335   0.345163   0.8725                      \n",
      "    44     0.409633   0.342186   0.875625                    \n",
      "    45     0.403441   0.342064   0.87625                     \n",
      "    46     0.394186   0.350861   0.869375                    \n",
      "    47     0.386056   0.34714    0.866875                    \n",
      "    48     0.383127   0.346795   0.8675                      \n",
      "    49     0.402664   0.343368   0.86625                     \n",
      "    50     0.3966     0.34371    0.86875                     \n",
      "    51     0.361445   0.342119   0.868125                    \n",
      "    52     0.37981    0.346626   0.86                        \n",
      "    53     0.378161   0.345556   0.864375                    \n",
      "    54     0.390957   0.341789   0.869375                    \n",
      "    55     0.394913   0.340574   0.87                        \n",
      "    56     0.389793   0.344252   0.865625                    \n",
      "    57     0.368489   0.346178   0.865                       \n",
      "    58     0.362284   0.342846   0.86875                     \n",
      "    59     0.372139   0.341732   0.868125                    \n",
      "    60     0.371133   0.339945   0.868125                    \n",
      "    61     0.357337   0.344135   0.8675                      \n"
     ]
    },
    {
     "data": {
      "text/plain": [
       "[0.3441350059211254, 0.8675]"
      ]
     },
     "execution_count": 61,
     "metadata": {},
     "output_type": "execute_result"
    }
   ],
   "source": [
    "learn.fit(1e-2, 5, cycle_len=2,cycle_mult=2)"
   ]
  },
  {
   "cell_type": "code",
   "execution_count": 62,
   "metadata": {},
   "outputs": [
    {
     "data": {
      "application/vnd.jupyter.widget-view+json": {
       "model_id": "4ab30a5dd42740099d7c3ee21adebb5e",
       "version_major": 2,
       "version_minor": 0
      },
      "text/plain": [
       "HBox(children=(IntProgress(value=0, description='Epoch', max=2, style=ProgressStyle(description_width='initial…"
      ]
     },
     "metadata": {},
     "output_type": "display_data"
    },
    {
     "name": "stdout",
     "output_type": "stream",
     "text": [
      "\n",
      "epoch      trn_loss   val_loss   accuracy                    \n",
      "    0      0.353883   0.343499   0.8625    \n",
      "    1      0.382446   0.343742   0.865625                    \n"
     ]
    },
    {
     "data": {
      "text/plain": [
       "[0.34374193295836447, 0.865625]"
      ]
     },
     "execution_count": 62,
     "metadata": {},
     "output_type": "execute_result"
    }
   ],
   "source": [
    "learn.fit(1e-3, 1, cycle_len=2,cycle_mult=2)"
   ]
  },
  {
   "cell_type": "code",
   "execution_count": 63,
   "metadata": {},
   "outputs": [],
   "source": [
    "learn.save('resnet34-2')"
   ]
  },
  {
   "cell_type": "code",
   "execution_count": 41,
   "metadata": {},
   "outputs": [],
   "source": [
    "learn.load('resnet34-2')"
   ]
  },
  {
   "cell_type": "code",
   "execution_count": 64,
   "metadata": {},
   "outputs": [
    {
     "name": "stdout",
     "output_type": "stream",
     "text": [
      "                                             \r"
     ]
    }
   ],
   "source": [
    "log_preds, _ = learn.TTA(is_test=True) \n",
    "probs = np.mean(np.exp(log_preds),0)"
   ]
  },
  {
   "cell_type": "code",
   "execution_count": 65,
   "metadata": {},
   "outputs": [
    {
     "data": {
      "text/html": [
       "<div>\n",
       "<style scoped>\n",
       "    .dataframe tbody tr th:only-of-type {\n",
       "        vertical-align: middle;\n",
       "    }\n",
       "\n",
       "    .dataframe tbody tr th {\n",
       "        vertical-align: top;\n",
       "    }\n",
       "\n",
       "    .dataframe thead th {\n",
       "        text-align: right;\n",
       "    }\n",
       "</style>\n",
       "<table border=\"1\" class=\"dataframe\">\n",
       "  <thead>\n",
       "    <tr style=\"text-align: right;\">\n",
       "      <th></th>\n",
       "      <th>image_index</th>\n",
       "      <th>0</th>\n",
       "      <th>2</th>\n",
       "      <th>3</th>\n",
       "      <th>6</th>\n",
       "    </tr>\n",
       "  </thead>\n",
       "  <tbody>\n",
       "    <tr>\n",
       "      <th>0</th>\n",
       "      <td>255</td>\n",
       "      <td>0.877170</td>\n",
       "      <td>0.004030</td>\n",
       "      <td>0.006773</td>\n",
       "      <td>0.112027</td>\n",
       "    </tr>\n",
       "    <tr>\n",
       "      <th>1</th>\n",
       "      <td>1078</td>\n",
       "      <td>0.106239</td>\n",
       "      <td>0.002887</td>\n",
       "      <td>0.867519</td>\n",
       "      <td>0.023355</td>\n",
       "    </tr>\n",
       "    <tr>\n",
       "      <th>2</th>\n",
       "      <td>1364</td>\n",
       "      <td>0.191985</td>\n",
       "      <td>0.016983</td>\n",
       "      <td>0.385735</td>\n",
       "      <td>0.405298</td>\n",
       "    </tr>\n",
       "    <tr>\n",
       "      <th>3</th>\n",
       "      <td>28</td>\n",
       "      <td>0.997588</td>\n",
       "      <td>0.000060</td>\n",
       "      <td>0.000013</td>\n",
       "      <td>0.002339</td>\n",
       "    </tr>\n",
       "    <tr>\n",
       "      <th>4</th>\n",
       "      <td>1234</td>\n",
       "      <td>0.003459</td>\n",
       "      <td>0.000235</td>\n",
       "      <td>0.991648</td>\n",
       "      <td>0.004659</td>\n",
       "    </tr>\n",
       "  </tbody>\n",
       "</table>\n",
       "</div>"
      ],
      "text/plain": [
       "  image_index         0         2         3         6\n",
       "0         255  0.877170  0.004030  0.006773  0.112027\n",
       "1        1078  0.106239  0.002887  0.867519  0.023355\n",
       "2        1364  0.191985  0.016983  0.385735  0.405298\n",
       "3          28  0.997588  0.000060  0.000013  0.002339\n",
       "4        1234  0.003459  0.000235  0.991648  0.004659"
      ]
     },
     "execution_count": 65,
     "metadata": {},
     "output_type": "execute_result"
    }
   ],
   "source": [
    "df2 = pd.DataFrame(probs)\n",
    "df2.columns = data.classes\n",
    "df2.insert(0, 'image_index', [o[5:-4] for o in data.test_ds.fnames])\n",
    "df2.shape\n",
    "df2.head()"
   ]
  },
  {
   "cell_type": "code",
   "execution_count": 66,
   "metadata": {},
   "outputs": [],
   "source": [
    "cl=[]\n",
    "for i in range(2000):\n",
    "    temp=(max(df2['0'][i],df2['2'][i],df2['3'][i],df2['6'][i]))\n",
    "    if(temp==df2['0'][i]):\n",
    "        cl.append(0)\n",
    "    elif(temp==df2['2'][i]):\n",
    "        cl.append(2)\n",
    "    elif(temp==df2['3'][i]):\n",
    "        cl.append(3)\n",
    "    elif(temp==df2['6'][i]):\n",
    "        cl.append(6)"
   ]
  },
  {
   "cell_type": "code",
   "execution_count": 68,
   "metadata": {},
   "outputs": [],
   "source": [
    "df['class']=cl"
   ]
  },
  {
   "cell_type": "code",
   "execution_count": 43,
   "metadata": {},
   "outputs": [
    {
     "data": {
      "text/html": [
       "<div>\n",
       "<style scoped>\n",
       "    .dataframe tbody tr th:only-of-type {\n",
       "        vertical-align: middle;\n",
       "    }\n",
       "\n",
       "    .dataframe tbody tr th {\n",
       "        vertical-align: top;\n",
       "    }\n",
       "\n",
       "    .dataframe thead th {\n",
       "        text-align: right;\n",
       "    }\n",
       "</style>\n",
       "<table border=\"1\" class=\"dataframe\">\n",
       "  <thead>\n",
       "    <tr style=\"text-align: right;\">\n",
       "      <th></th>\n",
       "      <th>image_index</th>\n",
       "      <th>0</th>\n",
       "      <th>2</th>\n",
       "      <th>3</th>\n",
       "      <th>6</th>\n",
       "      <th>class</th>\n",
       "    </tr>\n",
       "  </thead>\n",
       "  <tbody>\n",
       "    <tr>\n",
       "      <th>0</th>\n",
       "      <td>255</td>\n",
       "      <td>0.818000</td>\n",
       "      <td>2.320654e-03</td>\n",
       "      <td>2.231639e-04</td>\n",
       "      <td>0.179456</td>\n",
       "      <td>0</td>\n",
       "    </tr>\n",
       "    <tr>\n",
       "      <th>1</th>\n",
       "      <td>1078</td>\n",
       "      <td>0.005943</td>\n",
       "      <td>1.147137e-05</td>\n",
       "      <td>9.925799e-01</td>\n",
       "      <td>0.001465</td>\n",
       "      <td>3</td>\n",
       "    </tr>\n",
       "    <tr>\n",
       "      <th>2</th>\n",
       "      <td>1364</td>\n",
       "      <td>0.030041</td>\n",
       "      <td>2.691040e-03</td>\n",
       "      <td>6.139608e-01</td>\n",
       "      <td>0.353307</td>\n",
       "      <td>3</td>\n",
       "    </tr>\n",
       "    <tr>\n",
       "      <th>3</th>\n",
       "      <td>28</td>\n",
       "      <td>0.999721</td>\n",
       "      <td>4.648968e-07</td>\n",
       "      <td>1.013888e-07</td>\n",
       "      <td>0.000278</td>\n",
       "      <td>0</td>\n",
       "    </tr>\n",
       "    <tr>\n",
       "      <th>4</th>\n",
       "      <td>1234</td>\n",
       "      <td>0.000188</td>\n",
       "      <td>6.417063e-05</td>\n",
       "      <td>9.994146e-01</td>\n",
       "      <td>0.000333</td>\n",
       "      <td>3</td>\n",
       "    </tr>\n",
       "  </tbody>\n",
       "</table>\n",
       "</div>"
      ],
      "text/plain": [
       "  image_index         0             2             3         6  class\n",
       "0         255  0.818000  2.320654e-03  2.231639e-04  0.179456      0\n",
       "1        1078  0.005943  1.147137e-05  9.925799e-01  0.001465      3\n",
       "2        1364  0.030041  2.691040e-03  6.139608e-01  0.353307      3\n",
       "3          28  0.999721  4.648968e-07  1.013888e-07  0.000278      0\n",
       "4        1234  0.000188  6.417063e-05  9.994146e-01  0.000333      3"
      ]
     },
     "execution_count": 43,
     "metadata": {},
     "output_type": "execute_result"
    }
   ],
   "source": [
    "df.head()\n",
    "df=df.drop(['0','2','3','6'],axis=True)"
   ]
  },
  {
   "cell_type": "code",
   "execution_count": 46,
   "metadata": {},
   "outputs": [],
   "source": [
    "df.to_csv(\"answer.csv\",index=False)"
   ]
  },
  {
   "cell_type": "code",
   "execution_count": null,
   "metadata": {},
   "outputs": [],
   "source": []
  }
 ],
 "metadata": {
  "kernelspec": {
   "display_name": "Python 3",
   "language": "python",
   "name": "python3"
  },
  "language_info": {
   "codemirror_mode": {
    "name": "ipython",
    "version": 3
   },
   "file_extension": ".py",
   "mimetype": "text/x-python",
   "name": "python",
   "nbconvert_exporter": "python",
   "pygments_lexer": "ipython3",
   "version": "3.6.8"
  }
 },
 "nbformat": 4,
 "nbformat_minor": 2
}
