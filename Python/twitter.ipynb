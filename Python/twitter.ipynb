{
 "cells": [
  {
   "cell_type": "code",
   "execution_count": 9,
   "metadata": {},
   "outputs": [],
   "source": [
    "import tweepy\n",
    "from tweepy import OAuthHandler\n",
    "import json\n",
    "import jsonlines\n",
    "import pandas as pd\n",
    "import json_lines\n",
    "consumer_key = 'SFZSVRMroRPkjqpvTz9KHYAKZ'\n",
    "consumer_secret = 'jApb8FL7r9m6joBdG5DpU1cbb9d3PB1Nl8buUq9xrpL6ZepUac'\n",
    "access_token = '1002972215296458752-danQNCanxaFTeyjIUxyo6JgsOFr5in'\n",
    "access_secret = 'bEKpPedSBLomlig0tWljHQEgHlrFoPur34exSID03BFe8'\n",
    " \n",
    "# Creating the authentication object\n",
    "auth = tweepy.OAuthHandler(consumer_key, consumer_secret)\n",
    "# Setting your access token and secret\n",
    "auth.set_access_token(access_token, access_secret)\n",
    "# Creating the API object while passing in auth information\n",
    "api = tweepy.API(auth) "
   ]
  },
  {
   "cell_type": "code",
   "execution_count": 10,
   "metadata": {},
   "outputs": [],
   "source": [
    "import json\n",
    "username=\"midasIIITD\"\n",
    "number_of_tweets=5000\n",
    "tweets = api.user_timeline(screen_name=username,count=number_of_tweets) "
   ]
  },
  {
   "cell_type": "code",
   "execution_count": 11,
   "metadata": {},
   "outputs": [],
   "source": [
    "import jsonlines\n",
    "with jsonlines.open('output.jsonl', mode='w') as writer:\n",
    "    for tweet in tweets:\n",
    "        writer.write(json.dumps(tweet._json))"
   ]
  },
  {
   "cell_type": "code",
   "execution_count": 12,
   "metadata": {},
   "outputs": [],
   "source": [
    "df=pd.DataFrame({'text':[],'date and time':[],'likes':[],'retweets':[]})"
   ]
  },
  {
   "cell_type": "code",
   "execution_count": 13,
   "metadata": {},
   "outputs": [],
   "source": [
    "text=[]\n",
    "date=[]\n",
    "likes=[]\n",
    "retweets=[]\n",
    "x=\"\"\n",
    "with jsonlines.open('output.jsonl') as f:\n",
    "    for obj in json_lines.reader(f):\n",
    "        text.append(obj['text'])\n",
    "        date.append(obj['created_at'])\n",
    "        likes.append(obj['favorite_count'])\n",
    "        retweets.append(obj['retweet_count'])"
   ]
  },
  {
   "cell_type": "code",
   "execution_count": 14,
   "metadata": {},
   "outputs": [],
   "source": [
    "df['text']=text\n",
    "df['date and time']=date\n",
    "df['likes']=likes\n",
    "df['retweets']=retweets"
   ]
  },
  {
   "cell_type": "code",
   "execution_count": null,
   "metadata": {},
   "outputs": [],
   "source": []
  }
 ],
 "metadata": {
  "kernelspec": {
   "display_name": "Python 3",
   "language": "python",
   "name": "python3"
  },
  "language_info": {
   "codemirror_mode": {
    "name": "ipython",
    "version": 3
   },
   "file_extension": ".py",
   "mimetype": "text/x-python",
   "name": "python",
   "nbconvert_exporter": "python",
   "pygments_lexer": "ipython3",
   "version": "3.6.8"
  }
 },
 "nbformat": 4,
 "nbformat_minor": 2
}
